{
 "cells": [
  {
   "cell_type": "code",
   "execution_count": 31,
   "metadata": {},
   "outputs": [],
   "source": [
    "# This is a base location recommender, look at location_recommended_with_friends_network\n",
    "# \n",
    "import pandas\n",
    "import numpy\n",
    "from scipy import sparse\n",
    "\n",
    "# user-item matrix generated in earlier file\n",
    "user_item_sparse = sparse.load_npz('generated_data/user_item_matrix.npz')\n",
    "user_item_csr = user_item_sparse.tocsr()\n",
    "\n",
    "user_loc_f = numpy.load('generated_data/user_item_matrix_columns.npz')\n",
    "user_list = list(user_loc_f['arr_0'])\n",
    "loc_list = list(user_loc_f['arr_1'])\n",
    "\n",
    "P_Q_f = numpy.load('generated_data/user_item_decomposed.npz')\n",
    "P = P_Q_f['arr_0']\n",
    "Q = P_Q_f['arr_1']\n"
   ]
  },
  {
   "cell_type": "code",
   "execution_count": 27,
   "metadata": {},
   "outputs": [
    {
     "name": "stdout",
     "output_type": "stream",
     "text": [
      "[420315  21714   9241 ...  17144  13791  13776]\n"
     ]
    }
   ],
   "source": [
    "def recommend_locations_base(userid):\n",
    "    usern = user_list.index(userid)\n",
    "    \n",
    "    predictions = numpy.dot(P[usern,:][numpy.newaxis],Q.T) # we get the predictions by dot product of P.Q [userid]\n",
    "    predictions = predictions[0] #drop the two-dimensions\n",
    "    predictions_idx = [x for _,x in sorted(zip(predictions,range(len(predictions))),reverse=True)]\n",
    "\n",
    "    recommendations = numpy.array(loc_list)[predictions_idx]\n",
    "    return recommendations\n",
    "       \n",
    "locations = recommend_locations_base(3)\n",
    "print(locations)"
   ]
  },
  {
   "cell_type": "code",
   "execution_count": 28,
   "metadata": {},
   "outputs": [],
   "source": [
    "def recommend_locations(userid,K=10):\n",
    "    recommendations = recommend_locations_base(userid)\n",
    "    \n",
    "    # filter the recommended locations if its already visited\n",
    "    filtered = []\n",
    "    n = 0\n",
    "    usern = user_list.index(userid)\n",
    "    while len(filtered) < K and n < len(recommendations):\n",
    "        locn = loc_list.index(recommendations[n])\n",
    "        if user_item_csr[usern,locn] == 0:\n",
    "            filtered.append(recommendations[n])\n",
    "        n += 1\n",
    "    \n",
    "    return filtered"
   ]
  },
  {
   "cell_type": "code",
   "execution_count": 29,
   "metadata": {},
   "outputs": [
    {
     "data": {
      "application/vnd.jupyter.widget-view+json": {
       "model_id": "2aff56e9149a4d7a8a3e9895f6eeef84",
       "version_major": 2,
       "version_minor": 0
      },
      "text/plain": [
       "interactive(children=(SelectionSlider(continuous_update=False, description='UserId:', index=2, options=(1, 2, …"
      ]
     },
     "metadata": {},
     "output_type": "display_data"
    },
    {
     "name": "stdout",
     "output_type": "stream",
     "text": [
      "\n"
     ]
    }
   ],
   "source": [
    "from __future__ import print_function\n",
    "from ipywidgets import interact, interactive, fixed, interact_manual\n",
    "import ipywidgets as widgets\n",
    "\n",
    "userw=widgets.SelectionSlider(\n",
    "    options=user_list,\n",
    "    value=3,\n",
    "    description='UserId:',\n",
    "    disabled=False,\n",
    "    continuous_update=False,\n",
    "    orientation='horizontal',\n",
    "    readout=True\n",
    ")\n",
    "#display(w)\n",
    "\n",
    "def printer(userid):\n",
    "    print(\"Recommended Locations:\")\n",
    "    print(recommend_locations(userid))\n",
    "    \n",
    "interact(printer,userid=userw)\n",
    "print(\"\")"
   ]
  }
 ],
 "metadata": {
  "kernelspec": {
   "display_name": "Python 3",
   "language": "python",
   "name": "python3"
  },
  "language_info": {
   "codemirror_mode": {
    "name": "ipython",
    "version": 3
   },
   "file_extension": ".py",
   "mimetype": "text/x-python",
   "name": "python",
   "nbconvert_exporter": "python",
   "pygments_lexer": "ipython3",
   "version": "3.7.3"
  }
 },
 "nbformat": 4,
 "nbformat_minor": 2
}
