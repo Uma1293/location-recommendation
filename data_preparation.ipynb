{
 "cells": [
  {
   "cell_type": "code",
   "execution_count": 2,
   "metadata": {},
   "outputs": [
    {
     "name": "stdout",
     "output_type": "stream",
     "text": [
      "   id  bookmarked_spots_count  challenge_pin_count  country_pin_count  \\\n",
      "0   1                      26                   59                  1   \n",
      "1   2                      36                   79                 12   \n",
      "2   3                      11                   70                  1   \n",
      "3   4                       7                   51                  1   \n",
      "4   5                      34                   82                  5   \n",
      "\n",
      "   highlights_count  items_count  photos_count  pins_count  \\\n",
      "0                29           18           135          85   \n",
      "1               117           29          1069         138   \n",
      "2                42           49           149          93   \n",
      "3                13           29           138          80   \n",
      "4                62           36          1012         134   \n",
      "\n",
      "   province_pin_count  region_pin_count  state_pin_count  trips_count  \\\n",
      "0                   0                13               12            2   \n",
      "1                   0                31               19            7   \n",
      "2                   0                 7                6            2   \n",
      "3                   0                13               12            1   \n",
      "4                   0                19               14            2   \n",
      "\n",
      "   friends_count  stamps_count  checkin_num  places_num  \n",
      "0            372           757         1766         756  \n",
      "1            775          1227         2892        1220  \n",
      "2            100           905         3021         905  \n",
      "3            179           608         1325         613  \n",
      "4            525          1124         3215        1124  \n",
      "   userid  placeid              datetime\n",
      "0    1338   482954  2011-06-23T02:24:22Z\n",
      "1    1338   580963  2011-06-22T14:23:03Z\n",
      "2    1338   365256  2011-06-09T23:29:30Z\n",
      "3    1338    89504  2011-05-22T15:54:30Z\n",
      "4    1338  1267135  2011-05-21T16:51:13Z\n"
     ]
    }
   ],
   "source": [
    "#data-preparation: clean checkin data\n",
    "import pandas\n",
    "checkins = pandas.read_csv(\"gowalla_data/gowalla_checkins.csv\")\n",
    "user_info = pandas.read_csv(\"gowalla_data/gowalla_userinfo.csv\")\n",
    "\n",
    "#clean checkins by removing None\n",
    "checkins = checkins.dropna()\n",
    "\n",
    "print(user_info.head())\n",
    "print(checkins.head())\n"
   ]
  },
  {
   "cell_type": "code",
   "execution_count": 3,
   "metadata": {},
   "outputs": [
    {
     "name": "stdout",
     "output_type": "stream",
     "text": [
      "36001959\n",
      "36001959\n",
      "36001959\n"
     ]
    }
   ],
   "source": [
    "#user who has done more than 25 chcekins\n",
    "#cleaned_user_info = user_info[user_info['checkin_num']>25]\n",
    "#print(cleaned_user_info.head())\n",
    "\n",
    "#location which has number of checkins more than 25\n",
    "\n",
    "user_count = {}\n",
    "location_count ={}\n",
    "\n",
    "\n",
    "#user and how many checkins\n",
    "users = list(checkins['userid'])\n",
    "locations = list(checkins['placeid'])\n",
    "\n",
    "print(len(users))\n",
    "print(len(locations))\n",
    "\n",
    "user_locations = list(zip(users,locations))\n",
    "print(len(user_locations))\n",
    "\n",
    "#user and how many checkins\n",
    "for userid in users:\n",
    "    if userid in user_count:\n",
    "        user_count[userid]+=1\n",
    "    else:\n",
    "        user_count[userid]=1\n",
    "        \n",
    "#location and how many checkins\n",
    "for placeid in locations:\n",
    "    if placeid in location_count:\n",
    "        location_count[placeid]+=1\n",
    "    else:\n",
    "        location_count[placeid]=1\n",
    "    \n",
    "        "
   ]
  },
  {
   "cell_type": "code",
   "execution_count": 4,
   "metadata": {},
   "outputs": [
    {
     "name": "stdout",
     "output_type": "stream",
     "text": [
      "20800048\n"
     ]
    }
   ],
   "source": [
    "cleaned_user_locations = []\n",
    "for user_loc in user_locations:\n",
    "    userid,placeid = user_loc\n",
    "    if user_count[userid] > 25 and location_count[placeid] > 25:\n",
    "        cleaned_user_locations.append(user_loc)\n",
    "        \n",
    "print(len(cleaned_user_locations))   "
   ]
  },
  {
   "cell_type": "code",
   "execution_count": 5,
   "metadata": {},
   "outputs": [
    {
     "name": "stdout",
     "output_type": "stream",
     "text": [
      "[(1338, 482954), (1338, 365256), (1338, 89504), (1338, 365256), (1338, 39597)]\n"
     ]
    }
   ],
   "source": [
    "print (cleaned_user_locations[0:5])"
   ]
  },
  {
   "cell_type": "code",
   "execution_count": 6,
   "metadata": {},
   "outputs": [
    {
     "name": "stdout",
     "output_type": "stream",
     "text": [
      "   userid  placeid\n",
      "0    1338   482954\n",
      "1    1338   365256\n",
      "2    1338    89504\n",
      "3    1338   365256\n",
      "4    1338    39597\n"
     ]
    }
   ],
   "source": [
    "cleaned_dataFrame = pandas.DataFrame(cleaned_user_locations, columns =['userid', 'placeid'])    \n",
    "print(cleaned_dataFrame.head())"
   ]
  },
  {
   "cell_type": "code",
   "execution_count": null,
   "metadata": {},
   "outputs": [],
   "source": [
    "#df.to_csv('out.csv')\n",
    "cleaned_dataFrame.to_csv('generated_data/cleaned_checkins.csv',index=False)"
   ]
  },
  {
   "cell_type": "code",
   "execution_count": null,
   "metadata": {},
   "outputs": [],
   "source": []
  }
 ],
 "metadata": {
  "kernelspec": {
   "display_name": "Python 3",
   "language": "python",
   "name": "python3"
  },
  "language_info": {
   "codemirror_mode": {
    "name": "ipython",
    "version": 3
   },
   "file_extension": ".py",
   "mimetype": "text/x-python",
   "name": "python",
   "nbconvert_exporter": "python",
   "pygments_lexer": "ipython3",
   "version": "3.7.3"
  }
 },
 "nbformat": 4,
 "nbformat_minor": 2
}
