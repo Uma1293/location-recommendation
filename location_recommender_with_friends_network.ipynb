{
 "cells": [
  {
   "cell_type": "code",
   "execution_count": 1,
   "metadata": {},
   "outputs": [],
   "source": [
    "import pandas\n",
    "import numpy\n",
    "from scipy import sparse\n",
    "import networkx as nx\n",
    "import matplotlib.pyplot as plt\n",
    "\n",
    "# read the friends network data\n",
    "friends_file = pandas.read_csv(\"gowalla_data/gowalla_friendship.csv\")\n",
    "friends_u = list(friends_file['userid1'])\n",
    "friends_f = list(friends_file['userid2'])\n",
    "friends_data = zip(friends_u,friends_f)\n",
    "\n",
    "# user-item matrix generated in earlier file\n",
    "user_item_sparse = sparse.load_npz('generated_data/user_item_matrix.npz')\n",
    "user_item_csr = user_item_sparse.tocsr()\n",
    "\n",
    "user_loc_f = numpy.load('generated_data/user_item_matrix_columns.npz')\n",
    "user_list = list(user_loc_f['arr_0'])\n",
    "loc_list = list(user_loc_f['arr_1'])\n",
    "\n",
    "# create user_idx and loc_idx\n",
    "user_idx = {}\n",
    "idx = 0\n",
    "for u in user_list:\n",
    "    user_idx[u] = idx\n",
    "    idx += 1\n",
    "\n",
    "loc_idx = {}\n",
    "idx = 0\n",
    "for l in loc_list:\n",
    "    loc_idx[l] = idx\n",
    "    idx += 1\n",
    "#\n",
    "\n",
    "P_Q_f = numpy.load('generated_data/user_item_decomposed.npz')\n",
    "P = P_Q_f['arr_0']\n",
    "Q = P_Q_f['arr_1']"
   ]
  },
  {
   "cell_type": "code",
   "execution_count": 2,
   "metadata": {},
   "outputs": [],
   "source": [
    "# store the data for webui in 3 parts\n",
    "num1 = len(friends_u)//3\n",
    "num2 = 2*len(friends_u)//3\n",
    "u0 = friends_u[0:num1]\n",
    "f0 = friends_f[0:num1]\n",
    "u1 = friends_u[num1:num2]\n",
    "f1 = friends_f[num1:num2]\n",
    "u2 = friends_u[num2:]\n",
    "f2 = friends_f[num2:]\n",
    "numpy.savez('generated_data/friendship_data1.npz',u0,f0)\n",
    "numpy.savez('generated_data/friendship_data2.npz',u1,f1)\n",
    "numpy.savez('generated_data/friendship_data3.npz',u2,f2)"
   ]
  },
  {
   "cell_type": "code",
   "execution_count": 2,
   "metadata": {},
   "outputs": [
    {
     "name": "stdout",
     "output_type": "stream",
     "text": [
      "Nodes =  145040\n",
      "Edges =  1832987\n"
     ]
    }
   ],
   "source": [
    "DG = nx.DiGraph()\n",
    "\n",
    "# add nodes based on the user-list\n",
    "user_set = set(user_list)\n",
    "for u in user_list:\n",
    "    DG.add_node(u)\n",
    "    \n",
    "# add edges: friends based on friend data\n",
    "for e in friends_data:\n",
    "    if e[0] in user_set and e[1] in user_set:\n",
    "        DG.add_edge(e[0],e[1])\n",
    "\n",
    "# friends network stat\n",
    "print(\"Nodes = \",DG.number_of_nodes())\n",
    "print(\"Edges = \",DG.number_of_edges())"
   ]
  },
  {
   "cell_type": "code",
   "execution_count": 3,
   "metadata": {},
   "outputs": [],
   "source": [
    "def get_friends(userid,depth_limit=1):\n",
    "    friends_e = list(nx.bfs_edges(DG,userid,depth_limit=depth_limit))\n",
    "    friends = []\n",
    "    for e in friends_e:\n",
    "        friends.append(e[1])\n",
    "    \n",
    "    return friends"
   ]
  },
  {
   "cell_type": "code",
   "execution_count": 4,
   "metadata": {},
   "outputs": [],
   "source": [
    "def has_friend_visited(friends,usern,locn):\n",
    "    # we use this function to check if a friend \n",
    "    # of userid has visited this locid. \n",
    "    userid = user_list[usern]\n",
    "    for friendid in friends:\n",
    "        friendn = user_idx[friendid]\n",
    "        if user_item_csr[friendn,locn] != 0:\n",
    "            return True\n",
    "    \n",
    "    return False  "
   ]
  },
  {
   "cell_type": "code",
   "execution_count": 5,
   "metadata": {},
   "outputs": [
    {
     "name": "stdout",
     "output_type": "stream",
     "text": [
      "[420315  21714   9241 ...  17144  13791  13776]\n"
     ]
    }
   ],
   "source": [
    "def recommend_locations_base(userid):\n",
    "    usern = user_idx[userid]\n",
    "    \n",
    "    predictions = numpy.dot(P[usern,:][numpy.newaxis],Q.T) # we get the predictions by dot product of P.Q [userid]\n",
    "    predictions = predictions[0] #drop the two-dimensions\n",
    "    predictions_idx = [x for _,x in sorted(zip(predictions,range(len(predictions))),reverse=True)]\n",
    "\n",
    "    recommendations = numpy.array(loc_list)[predictions_idx]\n",
    "    return recommendations\n",
    "       \n",
    "locations = recommend_locations_base(3)\n",
    "print(locations)"
   ]
  },
  {
   "cell_type": "code",
   "execution_count": 6,
   "metadata": {},
   "outputs": [],
   "source": [
    "def recommend_locations_without_friends(userid,K=10):\n",
    "    recommendations = recommend_locations_base(userid)\n",
    "    \n",
    "    # filter the recommended locations based on:\n",
    "    # 1. it should not be visited by userid\n",
    "\n",
    "    filtered_not_visited = []\n",
    "    n = 0\n",
    "    usern = user_idx[userid]\n",
    "    while len(filtered_not_visited) < K and n < len(recommendations):\n",
    "        locn = loc_idx[recommendations[n]]\n",
    "        # 1:\n",
    "        if user_item_csr[usern,locn] == 0:\n",
    "            filtered_not_visited.append(recommendations[n])\n",
    "\n",
    "        n += 1\n",
    "\n",
    "    return filtered_not_visited"
   ]
  },
  {
   "cell_type": "code",
   "execution_count": 7,
   "metadata": {},
   "outputs": [],
   "source": [
    "def recommend_locations_with_friends(userid,K=10):\n",
    "    recommendations = recommend_locations_base(userid)\n",
    "    \n",
    "    # filter the recommended locations based on:\n",
    "    # 1. it should not be visited by userid\n",
    "    # 2. it should be visited by one of his friends\n",
    "    friends = get_friends(userid)\n",
    "    filtered_not_visited = []\n",
    "    filtered_not_visited_and_friend_visited = []\n",
    "    n = 0\n",
    "    usern = user_idx[userid]\n",
    "    while len(filtered_not_visited_and_friend_visited) < K and n < len(recommendations):\n",
    "        locn = loc_idx[recommendations[n]]\n",
    "        # 1 and 2:\n",
    "        if user_item_csr[usern,locn] == 0:\n",
    "            filtered_not_visited.append(recommendations[n])\n",
    "        \n",
    "        if user_item_csr[usern,locn] == 0 and has_friend_visited(friends,usern,locn):\n",
    "            filtered_not_visited_and_friend_visited.append(recommendations[n])\n",
    "\n",
    "        n += 1\n",
    "    \n",
    "    # its possible that user has no friends, so use the base\n",
    "    # recommender for these cases\n",
    "    if len(filtered_not_visited_and_friend_visited) == 0:\n",
    "        return filtered_not_visited\n",
    "    else:\n",
    "        return filtered_not_visited_and_friend_visited\n"
   ]
  },
  {
   "cell_type": "code",
   "execution_count": 8,
   "metadata": {},
   "outputs": [
    {
     "data": {
      "application/vnd.jupyter.widget-view+json": {
       "model_id": "7090092f604b48ce8f702bbaf55afc17",
       "version_major": 2,
       "version_minor": 0
      },
      "text/plain": [
       "interactive(children=(SelectionSlider(continuous_update=False, description='UserId:', index=2, options=(1, 2, …"
      ]
     },
     "metadata": {},
     "output_type": "display_data"
    },
    {
     "name": "stdout",
     "output_type": "stream",
     "text": [
      "\n"
     ]
    }
   ],
   "source": [
    "from __future__ import print_function\n",
    "from ipywidgets import interact, interactive, fixed, interact_manual\n",
    "import ipywidgets as widgets\n",
    "\n",
    "userw=widgets.SelectionSlider(\n",
    "    options=user_list,\n",
    "    value=3,\n",
    "    description='UserId:',\n",
    "    disabled=False,\n",
    "    continuous_update=False,\n",
    "    orientation='horizontal',\n",
    "    readout=True\n",
    ")\n",
    "#display(w)\n",
    "\n",
    "def printer(userid):\n",
    "    print(\"Recommended Locations:\")\n",
    "    print(\"With Friend Influence:\")\n",
    "    print(recommend_locations_with_friends(userid))\n",
    "    print(\"Without Friend Influence:\")\n",
    "    print(recommend_locations_without_friends(userid))\n",
    "    print(\"User Friends:\")\n",
    "    print(get_friends(userid,depth_limit=1))\n",
    "    \n",
    "interact(printer,userid=userw)\n",
    "print(\"\")"
   ]
  },
  {
   "cell_type": "code",
   "execution_count": null,
   "metadata": {},
   "outputs": [],
   "source": []
  }
 ],
 "metadata": {
  "kernelspec": {
   "display_name": "Python 3",
   "language": "python",
   "name": "python3"
  },
  "language_info": {
   "codemirror_mode": {
    "name": "ipython",
    "version": 3
   },
   "file_extension": ".py",
   "mimetype": "text/x-python",
   "name": "python",
   "nbconvert_exporter": "python",
   "pygments_lexer": "ipython3",
   "version": "3.7.3"
  }
 },
 "nbformat": 4,
 "nbformat_minor": 2
}
