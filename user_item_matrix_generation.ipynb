{
 "cells": [
  {
   "cell_type": "code",
   "execution_count": 1,
   "metadata": {},
   "outputs": [
    {
     "name": "stdout",
     "output_type": "stream",
     "text": [
      "   userid  placeid\n",
      "0    1338   482954\n",
      "1    1338   365256\n",
      "2    1338    89504\n",
      "3    1338   365256\n",
      "4    1338    39597\n"
     ]
    }
   ],
   "source": [
    "# generate user-item matrix\n",
    "import pandas\n",
    "\n",
    "user_loc_data = pandas.read_csv(\"generated_data/cleaned_checkins.csv\")\n",
    "print(user_loc_data.head())"
   ]
  },
  {
   "cell_type": "code",
   "execution_count": 2,
   "metadata": {},
   "outputs": [],
   "source": [
    "from scipy import sparse\n",
    "\n",
    "user_list = list(user_loc_data['userid'])\n",
    "locations_list = list(user_loc_data['placeid'])\n",
    "user_locations = list(zip(user_list,locations_list))\n",
    "user_item_dict ={}\n",
    "\n",
    "# create user-index mapping\n",
    "user_idx = {}\n",
    "user_set = list(set(user_list))\n",
    "user_set.sort()\n",
    "idx = 0\n",
    "for u in user_set:\n",
    "    user_idx[u] = idx\n",
    "    idx += 1\n",
    "    \n",
    "# create location-index mapping\n",
    "loc_idx = {}\n",
    "loc_set = list(set(locations_list))\n",
    "loc_set.sort()\n",
    "idx = 0\n",
    "for l in loc_set:\n",
    "    loc_idx[l] = idx\n",
    "    idx += 1\n",
    "    \n",
    "# compute the user/item counts\n",
    "for user_loc in user_locations:\n",
    "    if user_loc in user_item_dict:\n",
    "        user_item_dict[user_loc] += 1\n",
    "    else:\n",
    "        user_item_dict[user_loc] = 1\n",
    "        \n",
    "# create data,i,j for sparse matrix\n",
    "data = []\n",
    "i = []\n",
    "j = []\n",
    "for user_loc in user_item_dict:\n",
    "    userid = user_loc[0]\n",
    "    locid = user_loc[1]\n",
    "    count = user_item_dict[user_loc]\n",
    "    i.append(user_idx[userid])\n",
    "    j.append(loc_idx[locid])\n",
    "    data.append(count)\n",
    "    \n",
    "# create user-item sparse matrix\n",
    "user_item_sparse = sparse.coo_matrix((data,(i,j)))"
   ]
  },
  {
   "cell_type": "code",
   "execution_count": null,
   "metadata": {},
   "outputs": [],
   "source": [
    "user_item_df = pandas.DataFrame(user_item_sparse.toarray(),index=user_set,columns=loc_set)\n",
    "user_item_df.head()"
   ]
  },
  {
   "cell_type": "code",
   "execution_count": 4,
   "metadata": {},
   "outputs": [],
   "source": [
    "import numpy\n",
    "\n",
    "sparse.save_npz('generated_data/user_item_matrix.npz', user_item_sparse)\n",
    "numpy.savez('generated_data/user_item_matrix_columns.npz',user_set,loc_set)"
   ]
  },
  {
   "cell_type": "code",
   "execution_count": 5,
   "metadata": {},
   "outputs": [],
   "source": [
    "#uis = sparse.load_npz('generated_data/user_item_matrix.npz')\n",
    "#user_loc = numpy.load('generated_data/user_item_matrix_columns.npz')\n",
    "#u = list(user_loc['arr_0'])\n",
    "#l = list(user_loc['arr_1'])"
   ]
  },
  {
   "cell_type": "code",
   "execution_count": null,
   "metadata": {},
   "outputs": [],
   "source": []
  }
 ],
 "metadata": {
  "kernelspec": {
   "display_name": "Python 3",
   "language": "python",
   "name": "python3"
  },
  "language_info": {
   "codemirror_mode": {
    "name": "ipython",
    "version": 3
   },
   "file_extension": ".py",
   "mimetype": "text/x-python",
   "name": "python",
   "nbconvert_exporter": "python",
   "pygments_lexer": "ipython3",
   "version": "3.7.3"
  }
 },
 "nbformat": 4,
 "nbformat_minor": 2
}
