{
 "cells": [
  {
   "cell_type": "code",
   "execution_count": 9,
   "metadata": {},
   "outputs": [
    {
     "name": "stdout",
     "output_type": "stream",
     "text": [
      "Nodes =  145040\n",
      "Edges =  1832987\n",
      "[420315  21714   9241 ...  17144  13791  13776]\n"
     ]
    },
    {
     "data": {
      "application/vnd.jupyter.widget-view+json": {
       "model_id": "cc56e893d5364976bf8c63526166e276",
       "version_major": 2,
       "version_minor": 0
      },
      "text/plain": [
       "interactive(children=(SelectionSlider(continuous_update=False, description='UserId:', index=2, options=(1, 2, …"
      ]
     },
     "metadata": {},
     "output_type": "display_data"
    },
    {
     "name": "stdout",
     "output_type": "stream",
     "text": [
      "\n"
     ]
    }
   ],
   "source": [
    "run location_recommender_with_friends_network.ipynb"
   ]
  },
  {
   "cell_type": "code",
   "execution_count": 10,
   "metadata": {},
   "outputs": [],
   "source": [
    "import random\n",
    "# evaluation: choose 30% of values as test data\n",
    "samples = [(i,j,v) for i,j,v in zip(user_item_sparse.row, user_item_sparse.col, user_item_sparse.data)]\n",
    "random.shuffle(samples)"
   ]
  },
  {
   "cell_type": "code",
   "execution_count": 29,
   "metadata": {},
   "outputs": [],
   "source": [
    "N = (len(samples)*70)//100\n",
    "train = samples[0:N]\n",
    "test = samples[N:]\n",
    "\n",
    "user_item_train = sparse.coo_matrix(([v for _,_,v in train], ([i for i,_,_ in train],[j for _,j,_ in train])),shape=user_item_sparse.shape)\n",
    "user_item_test = sparse.coo_matrix(([v for _,_,v in test], ([i for i,_,_ in test],[j for _,j,_ in test])),shape=user_item_sparse.shape)\n",
    "\n",
    "# store the original user_item_sparse\n",
    "user_item_orig_csr = user_item_sparse.tocsr()\n",
    "\n",
    "# use training data for all predictions\n",
    "# user_item_csr is used by the prediction functions\n",
    "user_item_csr = user_item_train.tocsr()"
   ]
  },
  {
   "cell_type": "code",
   "execution_count": 30,
   "metadata": {},
   "outputs": [
    {
     "name": "stdout",
     "output_type": "stream",
     "text": [
      "precision@10, without friends network :  0.009600000000000001\n",
      "precision@10, with friends network :  0.03498665310640214\n",
      "precision@5, without friends network :  0.020800000000000006\n",
      "precision@5, with friends network :  0.037202065581595556\n"
     ]
    }
   ],
   "source": [
    "# for precision and recall: \n",
    "# prediction functions use user_item_csr to predict which now has only 70% of data\n",
    "# we predict locations and see how many can be recovered by comparing with original set\n",
    "# Precision@N defines the ratio of recovered POI to the N recommended POI\n",
    "\n",
    "relevant_usern = set()\n",
    "for s in test:\n",
    "    if s[0] not in relevant_usern:\n",
    "        relevant_usern.add(s[0])\n",
    "        \n",
    "def precision_at_k(K=10,f=1):\n",
    "    p = 0.0\n",
    "    user_p = list(relevant_usern)\n",
    "    random.shuffle(user_p)\n",
    "    for un in user_p[0:500]:\n",
    "        if f == 1:\n",
    "            retrieved = recommend_locations_with_friends(user_list[un],K)\n",
    "        else:\n",
    "            retrieved = recommend_locations_without_friends(user_list[un],K)\n",
    "            \n",
    "        # how many of these are relevant?\n",
    "        relevant = 0\n",
    "        for loc in retrieved:\n",
    "            locn = loc_idx[loc]\n",
    "            if user_item_orig_csr[un,locn] != 0:\n",
    "                relevant += 1\n",
    "        \n",
    "        p += (relevant*1.0)/len(retrieved)\n",
    "    \n",
    "    return (p/len(user_p[0:500]))\n",
    "\n",
    "print(\"precision@10, without friends network : \",precision_at_k(10,0))\n",
    "print(\"precision@10, with friends network : \",precision_at_k(10,1))\n",
    "print(\"precision@5, without friends network : \",precision_at_k(5,0))\n",
    "print(\"precision@5, with friends network : \",precision_at_k(5,1))\n"
   ]
  },
  {
   "cell_type": "code",
   "execution_count": null,
   "metadata": {},
   "outputs": [],
   "source": []
  }
 ],
 "metadata": {
  "kernelspec": {
   "display_name": "Python 3",
   "language": "python",
   "name": "python3"
  },
  "language_info": {
   "codemirror_mode": {
    "name": "ipython",
    "version": 3
   },
   "file_extension": ".py",
   "mimetype": "text/x-python",
   "name": "python",
   "nbconvert_exporter": "python",
   "pygments_lexer": "ipython3",
   "version": "3.7.3"
  }
 },
 "nbformat": 4,
 "nbformat_minor": 2
}
